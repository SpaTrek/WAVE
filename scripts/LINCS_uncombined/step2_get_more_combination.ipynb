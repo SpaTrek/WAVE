{
 "cells": [
  {
   "cell_type": "code",
   "execution_count": 1,
   "id": "65097c91",
   "metadata": {},
   "outputs": [],
   "source": [
    "import scanpy as sc\n",
    "import pandas as pd\n",
    "import numpy as np\n",
    "from itertools import product"
   ]
  },
  {
   "cell_type": "code",
   "execution_count": 2,
   "id": "567b0725",
   "metadata": {},
   "outputs": [
    {
     "name": "stdout",
     "output_type": "stream",
     "text": [
      "26\n",
      "4445\n",
      "115570\n"
     ]
    }
   ],
   "source": [
    "adata=sc.read_h5ad(\"level3_cp_ctrl_pred_tissue_filtered.h5ad\")\n",
    "# adata\n",
    "df=pd.DataFrame(adata.obs)\n",
    "# df\n",
    "cell_counts=df['cell'].value_counts()\n",
    "cmap_counts=df['cmap_name'].value_counts()\n",
    "filtered_cells = cell_counts[cell_counts >= 600].index.tolist()\n",
    "filtered_cmaps = cmap_counts[cmap_counts >= 1].index.tolist()\n",
    "print(len(filtered_cells))\n",
    "print(len(filtered_cmaps))\n",
    "\n",
    "combinations = list(product(filtered_cells, filtered_cmaps))\n",
    "print(len(combinations))"
   ]
  },
  {
   "cell_type": "code",
   "execution_count": 4,
   "id": "3d09925a",
   "metadata": {},
   "outputs": [
    {
     "data": {
      "text/plain": [
       "cmap_name\n",
       "ibrutinib             96\n",
       "masitinib             91\n",
       "PD-0325901            90\n",
       "tozasertib            88\n",
       "gefitinib             87\n",
       "                      ..\n",
       "BG-1027                1\n",
       "androstanol            1\n",
       "SA-25547               1\n",
       "BG-1025                1\n",
       "piperonyl-butoxide     1\n",
       "Name: count, Length: 4445, dtype: int64"
      ]
     },
     "execution_count": 4,
     "metadata": {},
     "output_type": "execute_result"
    }
   ],
   "source": [
    "cmap_counts"
   ]
  },
  {
   "cell_type": "code",
   "execution_count": 5,
   "id": "eb0cb768",
   "metadata": {},
   "outputs": [],
   "source": [
    "unpert_df=pd.DataFrame(adata.layers['unpert_expr'],index=adata.obs['cell'],columns=adata.var_names)"
   ]
  },
  {
   "cell_type": "code",
   "execution_count": 6,
   "id": "bc74732d",
   "metadata": {},
   "outputs": [
    {
     "name": "stdout",
     "output_type": "stream",
     "text": [
      "        cell_drug   GNPDA1      CDH3     HDAC6     PARP2    MAMLD1     DNAJB6  \\\n",
      "0   PC3_ibrutinib  9.74503  8.127631  8.394389  9.760157  4.900449  10.497885   \n",
      "1   PC3_masitinib  9.74503  8.127631  8.394389  9.760157  4.900449  10.497885   \n",
      "2  PC3_PD-0325901  9.74503  8.127631  8.394389  9.760157  4.900449  10.497885   \n",
      "3  PC3_tozasertib  9.74503  8.127631  8.394389  9.760157  4.900449  10.497885   \n",
      "4   PC3_gefitinib  9.74503  8.127631  8.394389  9.760157  4.900449  10.497885   \n",
      "\n",
      "       SMC4     ABCC5    ABCB6  ...    NCAPD2      PAN2   LPGAT1     KIF14  \\\n",
      "0  9.990736  5.072751  7.42981  ...  8.773877  5.008732  8.99127  7.927429   \n",
      "1  9.990736  5.072751  7.42981  ...  8.773877  5.008732  8.99127  7.927429   \n",
      "2  9.990736  5.072751  7.42981  ...  8.773877  5.008732  8.99127  7.927429   \n",
      "3  9.990736  5.072751  7.42981  ...  8.773877  5.008732  8.99127  7.927429   \n",
      "4  9.990736  5.072751  7.42981  ...  8.773877  5.008732  8.99127  7.927429   \n",
      "\n",
      "     CDC25A    CDC25B     OXSR1       MVP      CDC42   DMTF1  \n",
      "0  9.147755  11.82939  8.180429  8.412498  11.516556  7.0351  \n",
      "1  9.147755  11.82939  8.180429  8.412498  11.516556  7.0351  \n",
      "2  9.147755  11.82939  8.180429  8.412498  11.516556  7.0351  \n",
      "3  9.147755  11.82939  8.180429  8.412498  11.516556  7.0351  \n",
      "4  9.147755  11.82939  8.180429  8.412498  11.516556  7.0351  \n",
      "\n",
      "[5 rows x 979 columns]\n"
     ]
    }
   ],
   "source": [
    "\n",
    "if unpert_df.index.duplicated().any():\n",
    "    unpert_df = unpert_df.groupby(unpert_df.index).mean()\n",
    "\n",
    "combinations = list(product(filtered_cells, filtered_cmaps))\n",
    "\n",
    "cell_drug_names = [f\"{cell}_{drug}\" for cell, drug in combinations]\n",
    "\n",
    "unpert_expand_df = pd.DataFrame(index=cell_drug_names, columns=unpert_df.columns)\n",
    "\n",
    "\n",
    "for cell_drug in cell_drug_names:\n",
    "    parts = cell_drug.split(\"_\", 1)\n",
    "    \n",
    "    if len(parts) == 2:\n",
    "        cell, drug = parts\n",
    "        if cell in unpert_df.index:\n",
    "            unpert_expand_df.loc[cell_drug] = unpert_df.loc[cell].values\n",
    "    else:\n",
    "        print(f\"Skipping invalid cell_drug format: {cell_drug}\")\n",
    "\n",
    "\n",
    "unpert_expand_df.reset_index(inplace=True)\n",
    "unpert_expand_df.rename(columns={\"index\": \"cell_drug\"}, inplace=True)\n",
    "\n",
    "print(unpert_expand_df.head())\n"
   ]
  },
  {
   "cell_type": "code",
   "execution_count": 7,
   "id": "9330f2fb",
   "metadata": {},
   "outputs": [],
   "source": [
    "import anndata as ad"
   ]
  },
  {
   "cell_type": "code",
   "execution_count": 8,
   "id": "e3cbeaa6",
   "metadata": {},
   "outputs": [],
   "source": [
    "split_cols = unpert_expand_df['cell_drug'].str.split('_', n=1, expand=True)\n",
    "\n",
    "unpert_expand_df[['cell', 'drug']] = split_cols\n",
    "\n",
    "data_matrix = unpert_expand_df.drop(columns=['cell_drug'])"
   ]
  },
  {
   "cell_type": "code",
   "execution_count": 9,
   "id": "e364135b",
   "metadata": {},
   "outputs": [],
   "source": [
    "bdata = ad.AnnData(X=data_matrix.iloc[:, :-2].values) \n",
    "bdata.obs = data_matrix[['cell', 'drug']].reset_index(drop=True)\n",
    "\n",
    "data_matrix['cell'] = data_matrix['cell'].astype(str)\n",
    "data_matrix['drug'] = data_matrix['drug'].astype(str)"
   ]
  },
  {
   "cell_type": "code",
   "execution_count": 10,
   "id": "4becccda",
   "metadata": {},
   "outputs": [
    {
     "name": "stdout",
     "output_type": "stream",
     "text": [
      "object\n"
     ]
    }
   ],
   "source": [
    "\n",
    "print(bdata.X.dtype)\n",
    "\n",
    "\n",
    "bdata.X = bdata.X.astype(float)"
   ]
  },
  {
   "cell_type": "code",
   "execution_count": 11,
   "id": "8a58de41",
   "metadata": {},
   "outputs": [],
   "source": [
    "import pandas as pd\n",
    "\n",
    "compound_file = r'/path/to/l1000/compoundinfo_beta.txt'  \n",
    "compound_df = pd.read_csv(compound_file, sep='\\t', header=0)  \n",
    "\n",
    "\n",
    "moa_mapping = dict(zip(compound_df['cmap_name'], compound_df['moa']))  \n",
    "target_mapping = dict(zip(compound_df['cmap_name'], compound_df['target']))  \n",
    "pert_id_mapping = dict(zip(compound_df['cmap_name'], compound_df['pert_id']))  \n",
    "smiles_mapping = dict(zip(compound_df['cmap_name'], compound_df['canonical_smiles']))  \n",
    "compound_aliases_mapping = dict(zip(compound_df['cmap_name'], compound_df['compound_aliases']))  \n",
    "inchi_key_mapping = dict(zip(compound_df['cmap_name'], compound_df['inchi_key']))  \n",
    "\n",
    "\n",
    "bdata.obs['moa'] = bdata.obs['drug'].map(moa_mapping)\n",
    "bdata.obs['target'] = bdata.obs['drug'].map(target_mapping)\n",
    "bdata.obs['pert_id'] = bdata.obs['drug'].map(pert_id_mapping)\n",
    "bdata.obs['smiles'] = bdata.obs['drug'].map(smiles_mapping)\n",
    "bdata.obs['compound_aliases'] = bdata.obs['drug'].map(compound_aliases_mapping)\n",
    "bdata.obs['inchi_key'] = bdata.obs['drug'].map(inchi_key_mapping)\n",
    "\n",
    "\n",
    "bdata.layers['unpert_expr'] = bdata.X.copy()\n",
    "\n",
    "\n",
    "bdata = bdata[~bdata.obs['smiles'].isna()]\n"
   ]
  },
  {
   "cell_type": "code",
   "execution_count": null,
   "id": "b9db1da9",
   "metadata": {},
   "outputs": [],
   "source": [
    "bdata.write_h5ad('test_expand_cp.h5ad')"
   ]
  },
  {
   "cell_type": "code",
   "execution_count": null,
   "id": "602dab89",
   "metadata": {},
   "outputs": [],
   "source": []
  }
 ],
 "metadata": {
  "kernelspec": {
   "display_name": "single-cell",
   "language": "python",
   "name": "single-cell"
  },
  "language_info": {
   "codemirror_mode": {
    "name": "ipython",
    "version": 3
   },
   "file_extension": ".py",
   "mimetype": "text/x-python",
   "name": "python",
   "nbconvert_exporter": "python",
   "pygments_lexer": "ipython3",
   "version": "3.9.18"
  }
 },
 "nbformat": 4,
 "nbformat_minor": 5
}
