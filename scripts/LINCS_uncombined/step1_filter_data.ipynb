{
 "cells": [
  {
   "cell_type": "code",
   "execution_count": 1,
   "id": "7dfa0270",
   "metadata": {},
   "outputs": [],
   "source": [
    "import scanpy as sc\n",
    "import pandas as pd"
   ]
  },
  {
   "cell_type": "code",
   "execution_count": 2,
   "id": "5c6135e2",
   "metadata": {},
   "outputs": [],
   "source": [
    "adata = sc.read_h5ad(\"/path/to/level3_cp_ctrl.h5ad\")"
   ]
  },
  {
   "cell_type": "code",
   "execution_count": 6,
   "id": "f3fa2cf8",
   "metadata": {},
   "outputs": [],
   "source": [
    "meta = pd.read_csv(\"/path/to/l1000/compoundinfo_beta.txt\",sep=\"\\t\")"
   ]
  },
  {
   "cell_type": "code",
   "execution_count": 7,
   "id": "b8001fea",
   "metadata": {},
   "outputs": [],
   "source": [
    "smiles_cmapName = dict(zip(meta['canonical_smiles'], meta['cmap_name']))\n",
    "smiles_target = dict(zip(meta['canonical_smiles'], meta['target']))\n",
    "smiles_moa = dict(zip(meta['canonical_smiles'], meta['moa']))\n"
   ]
  },
  {
   "cell_type": "code",
   "execution_count": 8,
   "id": "9501f498",
   "metadata": {},
   "outputs": [
    {
     "name": "stderr",
     "output_type": "stream",
     "text": [
      "/tmp/ipykernel_20598/3495794578.py:1: ImplicitModificationWarning: Trying to modify attribute `.obs` of view, initializing view as actual.\n",
      "  adata.obs['cmap_name'] = adata.obs['smiles'].map(smiles_cmapName)\n"
     ]
    }
   ],
   "source": [
    "adata.obs['cmap_name'] = adata.obs['smiles'].map(smiles_cmapName)\n",
    "adata.obs['target'] = adata.obs['smiles'].map(smiles_target)\n",
    "adata.obs['moa'] = adata.obs['smiles'].map(smiles_moa)"
   ]
  },
  {
   "cell_type": "code",
   "execution_count": 4,
   "id": "2c9a4ecd",
   "metadata": {},
   "outputs": [
    {
     "name": "stdout",
     "output_type": "stream",
     "text": [
      "                                                         smiles  cell  \\\n",
      "A549_BrC1C(Br)C(Br)C(Br)C(Br)C1Br  BrC1C(Br)C(Br)C(Br)C(Br)C1Br  A549   \n",
      "ASC_BrC1C(Br)C(Br)C(Br)C(Br)C1Br   BrC1C(Br)C(Br)C(Br)C(Br)C1Br   ASC   \n",
      "MCF7_BrC1C(Br)C(Br)C(Br)C(Br)C1Br  BrC1C(Br)C(Br)C(Br)C(Br)C1Br  MCF7   \n",
      "NPC_BrC1C(Br)C(Br)C(Br)C(Br)C1Br   BrC1C(Br)C(Br)C(Br)C(Br)C1Br   NPC   \n",
      "SKB_BrC1C(Br)C(Br)C(Br)C(Br)C1Br   BrC1C(Br)C(Br)C(Br)C(Br)C1Br   SKB   \n",
      "\n",
      "                                      tissue  \n",
      "A549_BrC1C(Br)C(Br)C(Br)C(Br)C1Br       lung  \n",
      "ASC_BrC1C(Br)C(Br)C(Br)C(Br)C1Br     adipose  \n",
      "MCF7_BrC1C(Br)C(Br)C(Br)C(Br)C1Br     breast  \n",
      "NPC_BrC1C(Br)C(Br)C(Br)C(Br)C1Br   stem cell  \n",
      "SKB_BrC1C(Br)C(Br)C(Br)C(Br)C1Br      muscle  \n"
     ]
    }
   ],
   "source": [
    "tissue_file = r'cell_tissue.sort_color.txt'\n",
    "tissue_df = pd.read_csv(tissue_file, sep=',', header=None, names=['cell', 'tissue', 'color'])\n",
    "\n",
    "cell_to_tissue = dict(zip(tissue_df['cell'], tissue_df['tissue']))\n",
    "\n",
    "adata.obs['tissue'] = adata.obs['cell'].map(cell_to_tissue)\n",
    "\n",
    "print(adata.obs.head())\n",
    "\n",
    "adata.obs['tissue'].fillna('Unknown', inplace=True)"
   ]
  },
  {
   "cell_type": "code",
   "execution_count": 9,
   "id": "35c44be7",
   "metadata": {},
   "outputs": [],
   "source": [
    "adata = adata[~adata.obs['cell'].str.contains('XC', na=False)]\n",
    "adata = adata[~adata.obs['cmap_name'].str.contains('BRD', na=False) & adata.obs['cmap_name'].notnull()]\n",
    "adata = adata[~adata.obs['tissue'].str.contains('Unknown', na=False)]"
   ]
  },
  {
   "cell_type": "code",
   "execution_count": null,
   "id": "b16fbe27",
   "metadata": {},
   "outputs": [],
   "source": [
    "adata.write_h5ad(\"level3_cp_ctrl_pred_tissue_filtered.h5ad\")"
   ]
  }
 ],
 "metadata": {
  "kernelspec": {
   "display_name": "single-cell",
   "language": "python",
   "name": "single-cell"
  },
  "language_info": {
   "codemirror_mode": {
    "name": "ipython",
    "version": 3
   },
   "file_extension": ".py",
   "mimetype": "text/x-python",
   "name": "python",
   "nbconvert_exporter": "python",
   "pygments_lexer": "ipython3",
   "version": "3.9.18"
  }
 },
 "nbformat": 4,
 "nbformat_minor": 5
}
