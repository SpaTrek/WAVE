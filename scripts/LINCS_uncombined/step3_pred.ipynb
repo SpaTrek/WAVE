{
 "cells": [
  {
   "cell_type": "code",
   "execution_count": 1,
   "id": "27d2fcfb",
   "metadata": {},
   "outputs": [],
   "source": [
    "import torch\n",
    "import pandas as pd\n",
    "import numpy as np\n",
    "import scanpy as sc\n",
    "import sys\n",
    "sys.path.append(\"/path/to/wave\")\n",
    "from model import WAVE  \n",
    "from utils import morgan_fp  "
   ]
  },
  {
   "cell_type": "code",
   "execution_count": 2,
   "id": "9894b7ab",
   "metadata": {},
   "outputs": [],
   "source": [
    "class WAVEPredictor:\n",
    "    def __init__(self, model_path, device=\"cpu\"):\n",
    "        self.device = device\n",
    "        self.model = self._load_model(model_path, device)\n",
    "\n",
    "    def _load_model(self, model_path, device):\n",
    "        \"\"\"Load the pretrained WAVE model.\"\"\"\n",
    "        model = WAVE().to(device)\n",
    "        model.load_state_dict(torch.load(model_path, map_location=device))\n",
    "        model.eval()\n",
    "        return model\n",
    "\n",
    "    def predict(self, unpert_expr, smiles_list):\n",
    "        self.model.eval()\n",
    "\n",
    "        with torch.no_grad():\n",
    "            # Convert inputs to tensors\n",
    "            unpert_expr_tensor = torch.tensor(unpert_expr, dtype=torch.float32).to(self.device)\n",
    "            drug_fps = [torch.tensor(morgan_fp(s), dtype=torch.float32) for s in smiles_list]\n",
    "            drug_fps_tensor = torch.stack(drug_fps).to(self.device)\n",
    "\n",
    "            # Forward pass\n",
    "            final_expr, _, _, delta_expr = self.model(unpert_expr_tensor, drug_fps_tensor)\n",
    "\n",
    "            # Convert to numpy\n",
    "            final_expr = final_expr.cpu().numpy()\n",
    "            delta_expr = delta_expr.cpu().numpy()\n",
    "\n",
    "        # Create DataFrames\n",
    "        genes = [f\"Gene_{i+1}\" for i in range(final_expr.shape[1])]\n",
    "        df_final = pd.DataFrame(final_expr, columns=genes)\n",
    "        df_delta = pd.DataFrame(delta_expr, columns=genes)\n",
    "\n",
    "        return df_final, df_delta"
   ]
  },
  {
   "cell_type": "code",
   "execution_count": 3,
   "id": "367a21bf",
   "metadata": {},
   "outputs": [],
   "source": [
    "predictor = WAVEPredictor(model_path=\"/path/to/best_model.pth\", device=\"cpu\")"
   ]
  },
  {
   "cell_type": "code",
   "execution_count": 4,
   "id": "f534a38f",
   "metadata": {},
   "outputs": [],
   "source": [
    "adata = sc.read_h5ad(\"test_expand_cp.h5ad\")"
   ]
  },
  {
   "cell_type": "code",
   "execution_count": 8,
   "id": "ec5fa4af",
   "metadata": {},
   "outputs": [],
   "source": [
    "adata = adata[adata.obs['smiles'] != 'restricted']"
   ]
  },
  {
   "cell_type": "code",
   "execution_count": 9,
   "id": "d71b9a01",
   "metadata": {},
   "outputs": [],
   "source": [
    "unpert_expr = adata.layers['unpert_expr']\n",
    "smiles_list = adata.obs['smiles'].tolist()"
   ]
  },
  {
   "cell_type": "code",
   "execution_count": 10,
   "id": "e708aff7",
   "metadata": {},
   "outputs": [],
   "source": [
    "final_expr, delta_expr = predictor.predict(unpert_expr, smiles_list)"
   ]
  },
  {
   "cell_type": "code",
   "execution_count": 11,
   "id": "202633d2",
   "metadata": {},
   "outputs": [
    {
     "name": "stderr",
     "output_type": "stream",
     "text": [
      "/tmp/ipykernel_23583/4092731802.py:1: ImplicitModificationWarning: Setting element `.layers['pred']` of view, initializing view as actual.\n",
      "  adata.layers['pred'] = final_expr\n"
     ]
    }
   ],
   "source": [
    "adata.layers['pred'] = final_expr"
   ]
  },
  {
   "cell_type": "code",
   "execution_count": 12,
   "id": "9b562ce9",
   "metadata": {},
   "outputs": [],
   "source": [
    "adata.write_h5ad(\"test_expand_cp_pred.h5ad\")"
   ]
  }
 ],
 "metadata": {
  "kernelspec": {
   "display_name": "single-cell",
   "language": "python",
   "name": "single-cell"
  },
  "language_info": {
   "codemirror_mode": {
    "name": "ipython",
    "version": 3
   },
   "file_extension": ".py",
   "mimetype": "text/x-python",
   "name": "python",
   "nbconvert_exporter": "python",
   "pygments_lexer": "ipython3",
   "version": "3.9.18"
  }
 },
 "nbformat": 4,
 "nbformat_minor": 5
}
