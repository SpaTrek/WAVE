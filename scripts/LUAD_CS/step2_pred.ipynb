{
 "cells": [
  {
   "cell_type": "code",
   "execution_count": 1,
   "id": "0bf8a6c5",
   "metadata": {},
   "outputs": [],
   "source": [
    "import pandas as pd\n",
    "import scanpy as sc\n",
    "import numpy as np\n",
    "import anndata as ad"
   ]
  },
  {
   "cell_type": "code",
   "execution_count": 3,
   "id": "fe0c5a2f",
   "metadata": {},
   "outputs": [],
   "source": [
    "ref = sc.read_h5ad(\"/path/to/00.dataset/level3_cp_ctrl.h5ad\")"
   ]
  },
  {
   "cell_type": "code",
   "execution_count": 4,
   "id": "73afbb9f",
   "metadata": {},
   "outputs": [
    {
     "name": "stdout",
     "output_type": "stream",
     "text": [
      "最终子集维度: (3, 978)\n",
      "\n",
      "各细胞系样本数量:\n",
      "cell\n",
      "A549    3\n",
      "Name: count, dtype: int64\n"
     ]
    }
   ],
   "source": [
    "import numpy as np\n",
    "import scanpy as sc\n",
    "\n",
    "np.random.seed(123)\n",
    "\n",
    "\n",
    "target_cells = ['A549']\n",
    "\n",
    "\n",
    "selected_indices = []\n",
    "\n",
    "for cell_line in target_cells:\n",
    "    cell_mask = ref.obs['cell'] == cell_line\n",
    "    \n",
    "    cell_indices = ref.obs_names[cell_mask].tolist()\n",
    "    \n",
    "    if len(cell_indices) < 3:\n",
    "        print(f\"Warning: {cell_line} only {len(cell_indices)} records\")\n",
    "        continue\n",
    "    \n",
    "    selected = np.random.choice(cell_indices, size=3, replace=False)\n",
    "    selected_indices.extend(selected)\n",
    "\n",
    "subset_adata = ref[selected_indices].copy()\n",
    "\n",
    "print(subset_adata.obs['cell'].value_counts())"
   ]
  },
  {
   "cell_type": "code",
   "execution_count": 6,
   "id": "af718eaf",
   "metadata": {},
   "outputs": [
    {
     "data": {
      "text/html": [
       "<div>\n",
       "<style scoped>\n",
       "    .dataframe tbody tr th:only-of-type {\n",
       "        vertical-align: middle;\n",
       "    }\n",
       "\n",
       "    .dataframe tbody tr th {\n",
       "        vertical-align: top;\n",
       "    }\n",
       "\n",
       "    .dataframe thead th {\n",
       "        text-align: right;\n",
       "    }\n",
       "</style>\n",
       "<table border=\"1\" class=\"dataframe\">\n",
       "  <thead>\n",
       "    <tr style=\"text-align: right;\">\n",
       "      <th></th>\n",
       "      <th>ID</th>\n",
       "      <th>Name</th>\n",
       "      <th>CAS</th>\n",
       "      <th>SMILES</th>\n",
       "    </tr>\n",
       "  </thead>\n",
       "  <tbody>\n",
       "    <tr>\n",
       "      <th>0</th>\n",
       "      <td>TWS2045</td>\n",
       "      <td>Bruceine D</td>\n",
       "      <td>21499-66-1</td>\n",
       "      <td>CC1=CC(=O)[C@@H](O)[C@@]2(C)[C@H]1C[C@H]1OC(=O...</td>\n",
       "    </tr>\n",
       "    <tr>\n",
       "      <th>1</th>\n",
       "      <td>TWS1563</td>\n",
       "      <td>Incensole</td>\n",
       "      <td>22419-74-5</td>\n",
       "      <td>CC(C)[C@]12CC[C@@](C)(O1)[C@H](O)CC\\C(C)=C\\CC\\...</td>\n",
       "    </tr>\n",
       "    <tr>\n",
       "      <th>2</th>\n",
       "      <td>TWS1293</td>\n",
       "      <td>Angelic anhydride</td>\n",
       "      <td>94487-74-8</td>\n",
       "      <td>C\\C=C(\\C)C(=O)OC(=O)C(\\C)=C/C</td>\n",
       "    </tr>\n",
       "    <tr>\n",
       "      <th>3</th>\n",
       "      <td>TWS1229</td>\n",
       "      <td>Aristolone</td>\n",
       "      <td>25274-27-5</td>\n",
       "      <td>C[C@@H]1CCCC2=CC(=O)[C@@H]3[C@@H](C3(C)C)[C@@]12C</td>\n",
       "    </tr>\n",
       "    <tr>\n",
       "      <th>4</th>\n",
       "      <td>TWS0787</td>\n",
       "      <td>Oroxin A</td>\n",
       "      <td>31567-75-6</td>\n",
       "      <td>OC[C@H]1O[C@@H](Oc2cc3oc(cc(=O)c3c(O)c2O)-c2cc...</td>\n",
       "    </tr>\n",
       "    <tr>\n",
       "      <th>...</th>\n",
       "      <td>...</td>\n",
       "      <td>...</td>\n",
       "      <td>...</td>\n",
       "      <td>...</td>\n",
       "    </tr>\n",
       "    <tr>\n",
       "      <th>1856</th>\n",
       "      <td>T0021</td>\n",
       "      <td>Vanatone</td>\n",
       "      <td>70-70-2</td>\n",
       "      <td>CCC(=O)c1ccc(O)cc1</td>\n",
       "    </tr>\n",
       "    <tr>\n",
       "      <th>1857</th>\n",
       "      <td>T0019</td>\n",
       "      <td>Betaine hydrochloride</td>\n",
       "      <td>590-46-5</td>\n",
       "      <td>[Cl-].C[N+](C)(C)CC(O)=O</td>\n",
       "    </tr>\n",
       "    <tr>\n",
       "      <th>1858</th>\n",
       "      <td>T0014</td>\n",
       "      <td>cis-Anethol</td>\n",
       "      <td>104-46-1</td>\n",
       "      <td>COc1ccc(C=CC)cc1</td>\n",
       "    </tr>\n",
       "    <tr>\n",
       "      <th>1859</th>\n",
       "      <td>T0012</td>\n",
       "      <td>Cinchonine</td>\n",
       "      <td>118-10-5</td>\n",
       "      <td>O[C@H]([C@H]1C[C@@H]2CC[N@]1C[C@@H]2C=C)c1ccnc...</td>\n",
       "    </tr>\n",
       "    <tr>\n",
       "      <th>1860</th>\n",
       "      <td>T0011</td>\n",
       "      <td>Phenethyl alcohol</td>\n",
       "      <td>60-12-8</td>\n",
       "      <td>OCCC1=CC=CC=C1</td>\n",
       "    </tr>\n",
       "  </tbody>\n",
       "</table>\n",
       "<p>1861 rows × 4 columns</p>\n",
       "</div>"
      ],
      "text/plain": [
       "           ID                   Name         CAS  \\\n",
       "0     TWS2045             Bruceine D  21499-66-1   \n",
       "1     TWS1563              Incensole  22419-74-5   \n",
       "2     TWS1293      Angelic anhydride  94487-74-8   \n",
       "3     TWS1229             Aristolone  25274-27-5   \n",
       "4     TWS0787               Oroxin A  31567-75-6   \n",
       "...       ...                    ...         ...   \n",
       "1856    T0021               Vanatone     70-70-2   \n",
       "1857    T0019  Betaine hydrochloride    590-46-5   \n",
       "1858    T0014            cis-Anethol    104-46-1   \n",
       "1859    T0012             Cinchonine    118-10-5   \n",
       "1860    T0011      Phenethyl alcohol     60-12-8   \n",
       "\n",
       "                                                 SMILES  \n",
       "0     CC1=CC(=O)[C@@H](O)[C@@]2(C)[C@H]1C[C@H]1OC(=O...  \n",
       "1     CC(C)[C@]12CC[C@@](C)(O1)[C@H](O)CC\\C(C)=C\\CC\\...  \n",
       "2                         C\\C=C(\\C)C(=O)OC(=O)C(\\C)=C/C  \n",
       "3     C[C@@H]1CCCC2=CC(=O)[C@@H]3[C@@H](C3(C)C)[C@@]12C  \n",
       "4     OC[C@H]1O[C@@H](Oc2cc3oc(cc(=O)c3c(O)c2O)-c2cc...  \n",
       "...                                                 ...  \n",
       "1856                                 CCC(=O)c1ccc(O)cc1  \n",
       "1857                           [Cl-].C[N+](C)(C)CC(O)=O  \n",
       "1858                                   COc1ccc(C=CC)cc1  \n",
       "1859  O[C@H]([C@H]1C[C@@H]2CC[N@]1C[C@@H]2C=C)c1ccnc...  \n",
       "1860                                     OCCC1=CC=CC=C1  \n",
       "\n",
       "[1861 rows x 4 columns]"
      ]
     },
     "execution_count": 6,
     "metadata": {},
     "output_type": "execute_result"
    }
   ],
   "source": [
    "drug_df = pd.read_csv(\"/path/to/Targetmol_L6000.csv\", encoding='latin1')\n",
    "drug_df"
   ]
  },
  {
   "cell_type": "code",
   "execution_count": 7,
   "id": "b281648c",
   "metadata": {},
   "outputs": [
    {
     "data": {
      "text/plain": [
       "AnnData object with n_obs × n_vars = 3 × 978\n",
       "    obs: 'smiles', 'cell'\n",
       "    layers: 'unpert_expr'"
      ]
     },
     "execution_count": 7,
     "metadata": {},
     "output_type": "execute_result"
    }
   ],
   "source": [
    "subset_adata"
   ]
  },
  {
   "cell_type": "code",
   "execution_count": 8,
   "id": "b5c16a7c",
   "metadata": {},
   "outputs": [
    {
     "name": "stderr",
     "output_type": "stream",
     "text": [
      "/slurm/home/yrd/liaolab/lvtianhang/anaconda3/envs/transformer/lib/python3.10/site-packages/anndata/_core/anndata.py:183: ImplicitModificationWarning: Transforming to str index.\n",
      "  warnings.warn(\"Transforming to str index.\", ImplicitModificationWarning)\n"
     ]
    }
   ],
   "source": [
    "unpert_expr = subset_adata.layers['unpert_expr']\n",
    "obs_subset = subset_adata.obs.copy()\n",
    "n_cells = unpert_expr.shape[0]\n",
    "n_genes = unpert_expr.shape[1]\n",
    "\n",
    "expr_list = []\n",
    "obs_list = []\n",
    "\n",
    "\n",
    "for idx, row in drug_df.iterrows():\n",
    "    expr_repeated = unpert_expr.copy()\n",
    "    expr_list.append(expr_repeated)\n",
    "    \n",
    "    obs_repeated = obs_subset.copy()\n",
    "    obs_repeated = obs_repeated.reset_index(drop=True)\n",
    "    obs_repeated['IDNUMBER'] = row['ID']\n",
    "    obs_repeated['Cas'] = row['CAS']\n",
    "    obs_repeated['drug_SMILES'] = row['SMILES']\n",
    "    obs_list.append(obs_repeated)\n",
    "\n",
    "X_new = np.vstack(expr_list)\n",
    "obs_new = pd.concat(obs_list, ignore_index=True)\n",
    "var_new = subset_adata.var.copy()\n",
    "\n",
    "adata_new = ad.AnnData(X=X_new, obs=obs_new, var=var_new)\n",
    "adata_new.layers['unpert_expr'] = X_new.copy()\n",
    "adata_new.X = X_new.copy()\n"
   ]
  },
  {
   "cell_type": "code",
   "execution_count": 9,
   "id": "651c2cc7",
   "metadata": {},
   "outputs": [
    {
     "data": {
      "text/html": [
       "<div>\n",
       "<style scoped>\n",
       "    .dataframe tbody tr th:only-of-type {\n",
       "        vertical-align: middle;\n",
       "    }\n",
       "\n",
       "    .dataframe tbody tr th {\n",
       "        vertical-align: top;\n",
       "    }\n",
       "\n",
       "    .dataframe thead th {\n",
       "        text-align: right;\n",
       "    }\n",
       "</style>\n",
       "<table border=\"1\" class=\"dataframe\">\n",
       "  <thead>\n",
       "    <tr style=\"text-align: right;\">\n",
       "      <th></th>\n",
       "      <th>smiles</th>\n",
       "      <th>cell</th>\n",
       "      <th>IDNUMBER</th>\n",
       "      <th>Cas</th>\n",
       "      <th>drug_SMILES</th>\n",
       "    </tr>\n",
       "  </thead>\n",
       "  <tbody>\n",
       "    <tr>\n",
       "      <th>0</th>\n",
       "      <td>COc1cc2CC[N+](C)(C)[C@@H]3Cc4ccc(O)c(Oc5cc6[C@...</td>\n",
       "      <td>A549</td>\n",
       "      <td>TWS2045</td>\n",
       "      <td>21499-66-1</td>\n",
       "      <td>CC1=CC(=O)[C@@H](O)[C@@]2(C)[C@H]1C[C@H]1OC(=O...</td>\n",
       "    </tr>\n",
       "    <tr>\n",
       "      <th>1</th>\n",
       "      <td>Cc1ccc(NCn2c(=O)oc3ccccc23)cc1</td>\n",
       "      <td>A549</td>\n",
       "      <td>TWS2045</td>\n",
       "      <td>21499-66-1</td>\n",
       "      <td>CC1=CC(=O)[C@@H](O)[C@@]2(C)[C@H]1C[C@H]1OC(=O...</td>\n",
       "    </tr>\n",
       "    <tr>\n",
       "      <th>2</th>\n",
       "      <td>CCN(Cc1ccccc1)C(=O)Cn1c2nc(ncc2n(C)c1=O)-c1ccccc1</td>\n",
       "      <td>A549</td>\n",
       "      <td>TWS2045</td>\n",
       "      <td>21499-66-1</td>\n",
       "      <td>CC1=CC(=O)[C@@H](O)[C@@]2(C)[C@H]1C[C@H]1OC(=O...</td>\n",
       "    </tr>\n",
       "    <tr>\n",
       "      <th>3</th>\n",
       "      <td>COc1cc2CC[N+](C)(C)[C@@H]3Cc4ccc(O)c(Oc5cc6[C@...</td>\n",
       "      <td>A549</td>\n",
       "      <td>TWS1563</td>\n",
       "      <td>22419-74-5</td>\n",
       "      <td>CC(C)[C@]12CC[C@@](C)(O1)[C@H](O)CC\\C(C)=C\\CC\\...</td>\n",
       "    </tr>\n",
       "    <tr>\n",
       "      <th>4</th>\n",
       "      <td>Cc1ccc(NCn2c(=O)oc3ccccc23)cc1</td>\n",
       "      <td>A549</td>\n",
       "      <td>TWS1563</td>\n",
       "      <td>22419-74-5</td>\n",
       "      <td>CC(C)[C@]12CC[C@@](C)(O1)[C@H](O)CC\\C(C)=C\\CC\\...</td>\n",
       "    </tr>\n",
       "    <tr>\n",
       "      <th>...</th>\n",
       "      <td>...</td>\n",
       "      <td>...</td>\n",
       "      <td>...</td>\n",
       "      <td>...</td>\n",
       "      <td>...</td>\n",
       "    </tr>\n",
       "    <tr>\n",
       "      <th>5578</th>\n",
       "      <td>Cc1ccc(NCn2c(=O)oc3ccccc23)cc1</td>\n",
       "      <td>A549</td>\n",
       "      <td>T0012</td>\n",
       "      <td>118-10-5</td>\n",
       "      <td>O[C@H]([C@H]1C[C@@H]2CC[N@]1C[C@@H]2C=C)c1ccnc...</td>\n",
       "    </tr>\n",
       "    <tr>\n",
       "      <th>5579</th>\n",
       "      <td>CCN(Cc1ccccc1)C(=O)Cn1c2nc(ncc2n(C)c1=O)-c1ccccc1</td>\n",
       "      <td>A549</td>\n",
       "      <td>T0012</td>\n",
       "      <td>118-10-5</td>\n",
       "      <td>O[C@H]([C@H]1C[C@@H]2CC[N@]1C[C@@H]2C=C)c1ccnc...</td>\n",
       "    </tr>\n",
       "    <tr>\n",
       "      <th>5580</th>\n",
       "      <td>COc1cc2CC[N+](C)(C)[C@@H]3Cc4ccc(O)c(Oc5cc6[C@...</td>\n",
       "      <td>A549</td>\n",
       "      <td>T0011</td>\n",
       "      <td>60-12-8</td>\n",
       "      <td>OCCC1=CC=CC=C1</td>\n",
       "    </tr>\n",
       "    <tr>\n",
       "      <th>5581</th>\n",
       "      <td>Cc1ccc(NCn2c(=O)oc3ccccc23)cc1</td>\n",
       "      <td>A549</td>\n",
       "      <td>T0011</td>\n",
       "      <td>60-12-8</td>\n",
       "      <td>OCCC1=CC=CC=C1</td>\n",
       "    </tr>\n",
       "    <tr>\n",
       "      <th>5582</th>\n",
       "      <td>CCN(Cc1ccccc1)C(=O)Cn1c2nc(ncc2n(C)c1=O)-c1ccccc1</td>\n",
       "      <td>A549</td>\n",
       "      <td>T0011</td>\n",
       "      <td>60-12-8</td>\n",
       "      <td>OCCC1=CC=CC=C1</td>\n",
       "    </tr>\n",
       "  </tbody>\n",
       "</table>\n",
       "<p>5583 rows × 5 columns</p>\n",
       "</div>"
      ],
      "text/plain": [
       "                                                 smiles  cell IDNUMBER  \\\n",
       "0     COc1cc2CC[N+](C)(C)[C@@H]3Cc4ccc(O)c(Oc5cc6[C@...  A549  TWS2045   \n",
       "1                        Cc1ccc(NCn2c(=O)oc3ccccc23)cc1  A549  TWS2045   \n",
       "2     CCN(Cc1ccccc1)C(=O)Cn1c2nc(ncc2n(C)c1=O)-c1ccccc1  A549  TWS2045   \n",
       "3     COc1cc2CC[N+](C)(C)[C@@H]3Cc4ccc(O)c(Oc5cc6[C@...  A549  TWS1563   \n",
       "4                        Cc1ccc(NCn2c(=O)oc3ccccc23)cc1  A549  TWS1563   \n",
       "...                                                 ...   ...      ...   \n",
       "5578                     Cc1ccc(NCn2c(=O)oc3ccccc23)cc1  A549    T0012   \n",
       "5579  CCN(Cc1ccccc1)C(=O)Cn1c2nc(ncc2n(C)c1=O)-c1ccccc1  A549    T0012   \n",
       "5580  COc1cc2CC[N+](C)(C)[C@@H]3Cc4ccc(O)c(Oc5cc6[C@...  A549    T0011   \n",
       "5581                     Cc1ccc(NCn2c(=O)oc3ccccc23)cc1  A549    T0011   \n",
       "5582  CCN(Cc1ccccc1)C(=O)Cn1c2nc(ncc2n(C)c1=O)-c1ccccc1  A549    T0011   \n",
       "\n",
       "             Cas                                        drug_SMILES  \n",
       "0     21499-66-1  CC1=CC(=O)[C@@H](O)[C@@]2(C)[C@H]1C[C@H]1OC(=O...  \n",
       "1     21499-66-1  CC1=CC(=O)[C@@H](O)[C@@]2(C)[C@H]1C[C@H]1OC(=O...  \n",
       "2     21499-66-1  CC1=CC(=O)[C@@H](O)[C@@]2(C)[C@H]1C[C@H]1OC(=O...  \n",
       "3     22419-74-5  CC(C)[C@]12CC[C@@](C)(O1)[C@H](O)CC\\C(C)=C\\CC\\...  \n",
       "4     22419-74-5  CC(C)[C@]12CC[C@@](C)(O1)[C@H](O)CC\\C(C)=C\\CC\\...  \n",
       "...          ...                                                ...  \n",
       "5578    118-10-5  O[C@H]([C@H]1C[C@@H]2CC[N@]1C[C@@H]2C=C)c1ccnc...  \n",
       "5579    118-10-5  O[C@H]([C@H]1C[C@@H]2CC[N@]1C[C@@H]2C=C)c1ccnc...  \n",
       "5580     60-12-8                                     OCCC1=CC=CC=C1  \n",
       "5581     60-12-8                                     OCCC1=CC=CC=C1  \n",
       "5582     60-12-8                                     OCCC1=CC=CC=C1  \n",
       "\n",
       "[5583 rows x 5 columns]"
      ]
     },
     "execution_count": 9,
     "metadata": {},
     "output_type": "execute_result"
    }
   ],
   "source": [
    "adata_new.obs"
   ]
  },
  {
   "cell_type": "code",
   "execution_count": 10,
   "id": "b095efd9",
   "metadata": {},
   "outputs": [
    {
     "data": {
      "text/html": [
       "<div>\n",
       "<style scoped>\n",
       "    .dataframe tbody tr th:only-of-type {\n",
       "        vertical-align: middle;\n",
       "    }\n",
       "\n",
       "    .dataframe tbody tr th {\n",
       "        vertical-align: top;\n",
       "    }\n",
       "\n",
       "    .dataframe thead th {\n",
       "        text-align: right;\n",
       "    }\n",
       "</style>\n",
       "<table border=\"1\" class=\"dataframe\">\n",
       "  <thead>\n",
       "    <tr style=\"text-align: right;\">\n",
       "      <th></th>\n",
       "      <th>ID</th>\n",
       "      <th>Name</th>\n",
       "      <th>CAS</th>\n",
       "      <th>SMILES</th>\n",
       "    </tr>\n",
       "  </thead>\n",
       "  <tbody>\n",
       "    <tr>\n",
       "      <th>0</th>\n",
       "      <td>TWS2045</td>\n",
       "      <td>Bruceine D</td>\n",
       "      <td>21499-66-1</td>\n",
       "      <td>CC1=CC(=O)[C@@H](O)[C@@]2(C)[C@H]1C[C@H]1OC(=O...</td>\n",
       "    </tr>\n",
       "    <tr>\n",
       "      <th>1</th>\n",
       "      <td>TWS1563</td>\n",
       "      <td>Incensole</td>\n",
       "      <td>22419-74-5</td>\n",
       "      <td>CC(C)[C@]12CC[C@@](C)(O1)[C@H](O)CC\\C(C)=C\\CC\\...</td>\n",
       "    </tr>\n",
       "    <tr>\n",
       "      <th>2</th>\n",
       "      <td>TWS1293</td>\n",
       "      <td>Angelic anhydride</td>\n",
       "      <td>94487-74-8</td>\n",
       "      <td>C\\C=C(\\C)C(=O)OC(=O)C(\\C)=C/C</td>\n",
       "    </tr>\n",
       "    <tr>\n",
       "      <th>3</th>\n",
       "      <td>TWS1229</td>\n",
       "      <td>Aristolone</td>\n",
       "      <td>25274-27-5</td>\n",
       "      <td>C[C@@H]1CCCC2=CC(=O)[C@@H]3[C@@H](C3(C)C)[C@@]12C</td>\n",
       "    </tr>\n",
       "    <tr>\n",
       "      <th>4</th>\n",
       "      <td>TWS0787</td>\n",
       "      <td>Oroxin A</td>\n",
       "      <td>31567-75-6</td>\n",
       "      <td>OC[C@H]1O[C@@H](Oc2cc3oc(cc(=O)c3c(O)c2O)-c2cc...</td>\n",
       "    </tr>\n",
       "    <tr>\n",
       "      <th>...</th>\n",
       "      <td>...</td>\n",
       "      <td>...</td>\n",
       "      <td>...</td>\n",
       "      <td>...</td>\n",
       "    </tr>\n",
       "    <tr>\n",
       "      <th>1856</th>\n",
       "      <td>T0021</td>\n",
       "      <td>Vanatone</td>\n",
       "      <td>70-70-2</td>\n",
       "      <td>CCC(=O)c1ccc(O)cc1</td>\n",
       "    </tr>\n",
       "    <tr>\n",
       "      <th>1857</th>\n",
       "      <td>T0019</td>\n",
       "      <td>Betaine hydrochloride</td>\n",
       "      <td>590-46-5</td>\n",
       "      <td>[Cl-].C[N+](C)(C)CC(O)=O</td>\n",
       "    </tr>\n",
       "    <tr>\n",
       "      <th>1858</th>\n",
       "      <td>T0014</td>\n",
       "      <td>cis-Anethol</td>\n",
       "      <td>104-46-1</td>\n",
       "      <td>COc1ccc(C=CC)cc1</td>\n",
       "    </tr>\n",
       "    <tr>\n",
       "      <th>1859</th>\n",
       "      <td>T0012</td>\n",
       "      <td>Cinchonine</td>\n",
       "      <td>118-10-5</td>\n",
       "      <td>O[C@H]([C@H]1C[C@@H]2CC[N@]1C[C@@H]2C=C)c1ccnc...</td>\n",
       "    </tr>\n",
       "    <tr>\n",
       "      <th>1860</th>\n",
       "      <td>T0011</td>\n",
       "      <td>Phenethyl alcohol</td>\n",
       "      <td>60-12-8</td>\n",
       "      <td>OCCC1=CC=CC=C1</td>\n",
       "    </tr>\n",
       "  </tbody>\n",
       "</table>\n",
       "<p>1861 rows × 4 columns</p>\n",
       "</div>"
      ],
      "text/plain": [
       "           ID                   Name         CAS  \\\n",
       "0     TWS2045             Bruceine D  21499-66-1   \n",
       "1     TWS1563              Incensole  22419-74-5   \n",
       "2     TWS1293      Angelic anhydride  94487-74-8   \n",
       "3     TWS1229             Aristolone  25274-27-5   \n",
       "4     TWS0787               Oroxin A  31567-75-6   \n",
       "...       ...                    ...         ...   \n",
       "1856    T0021               Vanatone     70-70-2   \n",
       "1857    T0019  Betaine hydrochloride    590-46-5   \n",
       "1858    T0014            cis-Anethol    104-46-1   \n",
       "1859    T0012             Cinchonine    118-10-5   \n",
       "1860    T0011      Phenethyl alcohol     60-12-8   \n",
       "\n",
       "                                                 SMILES  \n",
       "0     CC1=CC(=O)[C@@H](O)[C@@]2(C)[C@H]1C[C@H]1OC(=O...  \n",
       "1     CC(C)[C@]12CC[C@@](C)(O1)[C@H](O)CC\\C(C)=C\\CC\\...  \n",
       "2                         C\\C=C(\\C)C(=O)OC(=O)C(\\C)=C/C  \n",
       "3     C[C@@H]1CCCC2=CC(=O)[C@@H]3[C@@H](C3(C)C)[C@@]12C  \n",
       "4     OC[C@H]1O[C@@H](Oc2cc3oc(cc(=O)c3c(O)c2O)-c2cc...  \n",
       "...                                                 ...  \n",
       "1856                                 CCC(=O)c1ccc(O)cc1  \n",
       "1857                           [Cl-].C[N+](C)(C)CC(O)=O  \n",
       "1858                                   COc1ccc(C=CC)cc1  \n",
       "1859  O[C@H]([C@H]1C[C@@H]2CC[N@]1C[C@@H]2C=C)c1ccnc...  \n",
       "1860                                     OCCC1=CC=CC=C1  \n",
       "\n",
       "[1861 rows x 4 columns]"
      ]
     },
     "execution_count": 10,
     "metadata": {},
     "output_type": "execute_result"
    }
   ],
   "source": [
    "drug_df"
   ]
  },
  {
   "cell_type": "code",
   "execution_count": 15,
   "id": "08d2ea06",
   "metadata": {},
   "outputs": [],
   "source": [
    "import pandas as pd\n",
    "import numpy as np\n",
    "import anndata as ad"
   ]
  },
  {
   "cell_type": "code",
   "execution_count": 16,
   "id": "6544e0cc",
   "metadata": {},
   "outputs": [],
   "source": [
    "unpert_expr = []\n",
    "smiles_ls = []\n",
    "cas_ls = []\n",
    "id_ls = []\n",
    "cell_ls = []"
   ]
  },
  {
   "cell_type": "code",
   "execution_count": 17,
   "id": "f70049b0",
   "metadata": {},
   "outputs": [],
   "source": [
    "for idx,row in drug_df.iterrows():\n",
    "    smiles = row['SMILES']\n",
    "    smiles_ls += [smiles] * len(subset_adata)\n",
    "    cas_ls += [row['CAS']] * len(subset_adata)\n",
    "    id_ls += [row['ID']] * len(subset_adata)\n",
    "    cell_ls += subset_adata.obs['cell'].tolist()\n",
    "    \n",
    "    unpert_expr.append(subset_adata.layers['unpert_expr'])"
   ]
  },
  {
   "cell_type": "code",
   "execution_count": 18,
   "id": "eddb8513",
   "metadata": {},
   "outputs": [],
   "source": [
    "unpert_expr_np = np.vstack(unpert_expr)"
   ]
  },
  {
   "cell_type": "code",
   "execution_count": 19,
   "id": "a3bbab08",
   "metadata": {},
   "outputs": [],
   "source": [
    "adata_new = ad.AnnData(X=unpert_expr_np)"
   ]
  },
  {
   "cell_type": "code",
   "execution_count": 20,
   "id": "e7276207",
   "metadata": {},
   "outputs": [
    {
     "data": {
      "text/plain": [
       "AnnData object with n_obs × n_vars = 5583 × 978\n",
       "    layers: 'unpert_expr'"
      ]
     },
     "execution_count": 20,
     "metadata": {},
     "output_type": "execute_result"
    }
   ],
   "source": [
    "adata_new.layers['unpert_expr'] = unpert_expr_np\n",
    "adata_new"
   ]
  },
  {
   "cell_type": "code",
   "execution_count": 21,
   "id": "50f36966",
   "metadata": {},
   "outputs": [
    {
     "data": {
      "text/html": [
       "<div>\n",
       "<style scoped>\n",
       "    .dataframe tbody tr th:only-of-type {\n",
       "        vertical-align: middle;\n",
       "    }\n",
       "\n",
       "    .dataframe tbody tr th {\n",
       "        vertical-align: top;\n",
       "    }\n",
       "\n",
       "    .dataframe thead th {\n",
       "        text-align: right;\n",
       "    }\n",
       "</style>\n",
       "<table border=\"1\" class=\"dataframe\">\n",
       "  <thead>\n",
       "    <tr style=\"text-align: right;\">\n",
       "      <th></th>\n",
       "      <th>smiles</th>\n",
       "      <th>Cas</th>\n",
       "      <th>IDNUMBER</th>\n",
       "      <th>cell</th>\n",
       "    </tr>\n",
       "  </thead>\n",
       "  <tbody>\n",
       "    <tr>\n",
       "      <th>0</th>\n",
       "      <td>CC1=CC(=O)[C@@H](O)[C@@]2(C)[C@H]1C[C@H]1OC(=O...</td>\n",
       "      <td>21499-66-1</td>\n",
       "      <td>TWS2045</td>\n",
       "      <td>A549</td>\n",
       "    </tr>\n",
       "    <tr>\n",
       "      <th>1</th>\n",
       "      <td>CC1=CC(=O)[C@@H](O)[C@@]2(C)[C@H]1C[C@H]1OC(=O...</td>\n",
       "      <td>21499-66-1</td>\n",
       "      <td>TWS2045</td>\n",
       "      <td>A549</td>\n",
       "    </tr>\n",
       "    <tr>\n",
       "      <th>2</th>\n",
       "      <td>CC1=CC(=O)[C@@H](O)[C@@]2(C)[C@H]1C[C@H]1OC(=O...</td>\n",
       "      <td>21499-66-1</td>\n",
       "      <td>TWS2045</td>\n",
       "      <td>A549</td>\n",
       "    </tr>\n",
       "    <tr>\n",
       "      <th>3</th>\n",
       "      <td>CC(C)[C@]12CC[C@@](C)(O1)[C@H](O)CC\\C(C)=C\\CC\\...</td>\n",
       "      <td>22419-74-5</td>\n",
       "      <td>TWS1563</td>\n",
       "      <td>A549</td>\n",
       "    </tr>\n",
       "    <tr>\n",
       "      <th>4</th>\n",
       "      <td>CC(C)[C@]12CC[C@@](C)(O1)[C@H](O)CC\\C(C)=C\\CC\\...</td>\n",
       "      <td>22419-74-5</td>\n",
       "      <td>TWS1563</td>\n",
       "      <td>A549</td>\n",
       "    </tr>\n",
       "    <tr>\n",
       "      <th>...</th>\n",
       "      <td>...</td>\n",
       "      <td>...</td>\n",
       "      <td>...</td>\n",
       "      <td>...</td>\n",
       "    </tr>\n",
       "    <tr>\n",
       "      <th>5578</th>\n",
       "      <td>O[C@H]([C@H]1C[C@@H]2CC[N@]1C[C@@H]2C=C)c1ccnc...</td>\n",
       "      <td>118-10-5</td>\n",
       "      <td>T0012</td>\n",
       "      <td>A549</td>\n",
       "    </tr>\n",
       "    <tr>\n",
       "      <th>5579</th>\n",
       "      <td>O[C@H]([C@H]1C[C@@H]2CC[N@]1C[C@@H]2C=C)c1ccnc...</td>\n",
       "      <td>118-10-5</td>\n",
       "      <td>T0012</td>\n",
       "      <td>A549</td>\n",
       "    </tr>\n",
       "    <tr>\n",
       "      <th>5580</th>\n",
       "      <td>OCCC1=CC=CC=C1</td>\n",
       "      <td>60-12-8</td>\n",
       "      <td>T0011</td>\n",
       "      <td>A549</td>\n",
       "    </tr>\n",
       "    <tr>\n",
       "      <th>5581</th>\n",
       "      <td>OCCC1=CC=CC=C1</td>\n",
       "      <td>60-12-8</td>\n",
       "      <td>T0011</td>\n",
       "      <td>A549</td>\n",
       "    </tr>\n",
       "    <tr>\n",
       "      <th>5582</th>\n",
       "      <td>OCCC1=CC=CC=C1</td>\n",
       "      <td>60-12-8</td>\n",
       "      <td>T0011</td>\n",
       "      <td>A549</td>\n",
       "    </tr>\n",
       "  </tbody>\n",
       "</table>\n",
       "<p>5583 rows × 4 columns</p>\n",
       "</div>"
      ],
      "text/plain": [
       "                                                 smiles         Cas IDNUMBER  \\\n",
       "0     CC1=CC(=O)[C@@H](O)[C@@]2(C)[C@H]1C[C@H]1OC(=O...  21499-66-1  TWS2045   \n",
       "1     CC1=CC(=O)[C@@H](O)[C@@]2(C)[C@H]1C[C@H]1OC(=O...  21499-66-1  TWS2045   \n",
       "2     CC1=CC(=O)[C@@H](O)[C@@]2(C)[C@H]1C[C@H]1OC(=O...  21499-66-1  TWS2045   \n",
       "3     CC(C)[C@]12CC[C@@](C)(O1)[C@H](O)CC\\C(C)=C\\CC\\...  22419-74-5  TWS1563   \n",
       "4     CC(C)[C@]12CC[C@@](C)(O1)[C@H](O)CC\\C(C)=C\\CC\\...  22419-74-5  TWS1563   \n",
       "...                                                 ...         ...      ...   \n",
       "5578  O[C@H]([C@H]1C[C@@H]2CC[N@]1C[C@@H]2C=C)c1ccnc...    118-10-5    T0012   \n",
       "5579  O[C@H]([C@H]1C[C@@H]2CC[N@]1C[C@@H]2C=C)c1ccnc...    118-10-5    T0012   \n",
       "5580                                     OCCC1=CC=CC=C1     60-12-8    T0011   \n",
       "5581                                     OCCC1=CC=CC=C1     60-12-8    T0011   \n",
       "5582                                     OCCC1=CC=CC=C1     60-12-8    T0011   \n",
       "\n",
       "      cell  \n",
       "0     A549  \n",
       "1     A549  \n",
       "2     A549  \n",
       "3     A549  \n",
       "4     A549  \n",
       "...    ...  \n",
       "5578  A549  \n",
       "5579  A549  \n",
       "5580  A549  \n",
       "5581  A549  \n",
       "5582  A549  \n",
       "\n",
       "[5583 rows x 4 columns]"
      ]
     },
     "execution_count": 21,
     "metadata": {},
     "output_type": "execute_result"
    }
   ],
   "source": [
    "adata_new.obs['smiles'] = smiles_ls\n",
    "adata_new.obs['Cas'] = cas_ls\n",
    "adata_new.obs['IDNUMBER'] = id_ls\n",
    "adata_new.obs['cell'] = cell_ls\n",
    "adata_new.obs"
   ]
  },
  {
   "cell_type": "code",
   "execution_count": 22,
   "id": "00ed004b",
   "metadata": {},
   "outputs": [
    {
     "data": {
      "text/plain": [
       "AnnData object with n_obs × n_vars = 5583 × 978\n",
       "    obs: 'smiles', 'Cas', 'IDNUMBER', 'cell'\n",
       "    layers: 'unpert_expr'"
      ]
     },
     "execution_count": 22,
     "metadata": {},
     "output_type": "execute_result"
    }
   ],
   "source": [
    "adata_new"
   ]
  },
  {
   "cell_type": "code",
   "execution_count": 23,
   "id": "209b19a1",
   "metadata": {},
   "outputs": [],
   "source": [
    "adata_new.write_h5ad(\"NSCLC_target_mol.step1.h5ad\")"
   ]
  },
  {
   "cell_type": "markdown",
   "id": "5118e37a",
   "metadata": {},
   "source": [
    "# prediction"
   ]
  },
  {
   "cell_type": "code",
   "execution_count": 24,
   "id": "4ba0a98b",
   "metadata": {},
   "outputs": [],
   "source": [
    "import sys\n",
    "sys.path.append(\"/path/to/wave\")\n",
    "from model import WAVE\n",
    "import torch\n",
    "import numpy as np\n",
    "import scanpy as sc"
   ]
  },
  {
   "cell_type": "code",
   "execution_count": 25,
   "id": "18de7215",
   "metadata": {},
   "outputs": [
    {
     "data": {
      "text/plain": [
       "WAVE(\n",
       "  (gene_vae): GeneVAE(\n",
       "    (encoder): Sequential(\n",
       "      (0): Linear(in_features=978, out_features=512, bias=True)\n",
       "      (1): ReLU()\n",
       "      (2): Linear(in_features=512, out_features=256, bias=True)\n",
       "      (3): ReLU()\n",
       "    )\n",
       "    (fc_mu): Linear(in_features=256, out_features=128, bias=True)\n",
       "    (fc_logvar): Linear(in_features=256, out_features=128, bias=True)\n",
       "    (decoder): Sequential(\n",
       "      (0): Linear(in_features=128, out_features=256, bias=True)\n",
       "      (1): ReLU()\n",
       "      (2): Linear(in_features=256, out_features=512, bias=True)\n",
       "      (3): ReLU()\n",
       "      (4): Linear(in_features=512, out_features=978, bias=True)\n",
       "    )\n",
       "  )\n",
       "  (drug_feature): DrugNN(\n",
       "    (drug_fc): Sequential(\n",
       "      (0): Linear(in_features=2048, out_features=512, bias=True)\n",
       "      (1): ReLU()\n",
       "      (2): Linear(in_features=512, out_features=128, bias=True)\n",
       "      (3): ReLU()\n",
       "    )\n",
       "  )\n",
       "  (fusion): GeneDrugFusion(\n",
       "    (fusion_layer): Sequential(\n",
       "      (0): Linear(in_features=384, out_features=512, bias=True)\n",
       "      (1): ReLU()\n",
       "      (2): Linear(in_features=512, out_features=256, bias=True)\n",
       "      (3): ReLU()\n",
       "      (4): Linear(in_features=256, out_features=978, bias=True)\n",
       "    )\n",
       "  )\n",
       ")"
      ]
     },
     "execution_count": 25,
     "metadata": {},
     "output_type": "execute_result"
    }
   ],
   "source": [
    "model = WAVE()\n",
    "\n",
    "checkpoint_path = \"/path/to/best_model.pth\"\n",
    "model.load_state_dict(torch.load(checkpoint_path, map_location=torch.device(\"cpu\")))\n",
    "\n",
    "model.eval()"
   ]
  },
  {
   "cell_type": "code",
   "execution_count": 26,
   "id": "282e0e2a",
   "metadata": {},
   "outputs": [],
   "source": [
    "adata = sc.read_h5ad(\"NSCLC_target_mol.step1.h5ad\")"
   ]
  },
  {
   "cell_type": "code",
   "execution_count": 27,
   "id": "d6c41d0b",
   "metadata": {},
   "outputs": [],
   "source": [
    "adata.layers['unpert_expr'] = adata.X"
   ]
  },
  {
   "cell_type": "code",
   "execution_count": 28,
   "id": "db83a494",
   "metadata": {},
   "outputs": [],
   "source": [
    "gene_expr = adata.layers[\"unpert_expr\"]  # shape: [n, 978]\n",
    "smiles_list = adata.obs[\"smiles\"].tolist()"
   ]
  },
  {
   "cell_type": "code",
   "execution_count": 29,
   "id": "9f2302ab",
   "metadata": {},
   "outputs": [],
   "source": [
    "def smiles_to_fp(smiles, radius=2, nBits=2048):\n",
    "    mol = Chem.MolFromSmiles(smiles)\n",
    "    if mol is None:\n",
    "        return np.zeros(nBits, dtype=np.float32)\n",
    "    fp = AllChem.GetMorganFingerprintAsBitVect(mol, radius, nBits=nBits)\n",
    "    arr = np.zeros((1,), dtype=np.int8)\n",
    "    DataStructs.ConvertToNumpyArray(fp, arr)\n",
    "    return arr.astype(np.float32)"
   ]
  },
  {
   "cell_type": "code",
   "execution_count": 30,
   "id": "aa2ccd68",
   "metadata": {},
   "outputs": [],
   "source": [
    "from rdkit import DataStructs\n",
    "from rdkit import Chem\n",
    "from rdkit.Chem import AllChem"
   ]
  },
  {
   "cell_type": "code",
   "execution_count": 31,
   "id": "40b68f5a",
   "metadata": {},
   "outputs": [],
   "source": [
    "drug_fp_array = np.array([smiles_to_fp(s) for s in smiles_list], dtype=np.float32)\n",
    "\n",
    "# 5. 转换为 PyTorch tensor\n",
    "gene_expr_tensor = torch.tensor(np.array(gene_expr), dtype=torch.float32)\n",
    "drug_fp_tensor = torch.tensor(drug_fp_array, dtype=torch.float32)"
   ]
  },
  {
   "cell_type": "code",
   "execution_count": 32,
   "id": "53c02956",
   "metadata": {},
   "outputs": [
    {
     "data": {
      "text/plain": [
       "tensor([[0., 0., 0.,  ..., 0., 0., 0.],\n",
       "        [0., 0., 0.,  ..., 0., 0., 0.],\n",
       "        [0., 0., 0.,  ..., 0., 0., 0.],\n",
       "        ...,\n",
       "        [0., 0., 0.,  ..., 0., 0., 0.],\n",
       "        [0., 0., 0.,  ..., 0., 0., 0.],\n",
       "        [0., 0., 0.,  ..., 0., 0., 0.]])"
      ]
     },
     "execution_count": 32,
     "metadata": {},
     "output_type": "execute_result"
    }
   ],
   "source": [
    "drug_fp_tensor"
   ]
  },
  {
   "cell_type": "code",
   "execution_count": 33,
   "id": "002d583e",
   "metadata": {},
   "outputs": [],
   "source": [
    "with torch.no_grad():\n",
    "    predicted_expr,_,_,_ = model(gene_expr_tensor, drug_fp_tensor)"
   ]
  },
  {
   "cell_type": "code",
   "execution_count": 34,
   "id": "c755dcd1",
   "metadata": {},
   "outputs": [],
   "source": [
    "predicted_expr_np = predicted_expr.numpy()"
   ]
  },
  {
   "cell_type": "code",
   "execution_count": 35,
   "id": "e580f571",
   "metadata": {},
   "outputs": [],
   "source": [
    "adata.layers[\"pred\"] = predicted_expr_np"
   ]
  },
  {
   "cell_type": "code",
   "execution_count": 36,
   "id": "73cf6937",
   "metadata": {},
   "outputs": [
    {
     "data": {
      "text/plain": [
       "array([[ 9.823633 ,  5.0370574,  9.72896  , ..., 12.027216 , 10.776029 ,\n",
       "         7.926386 ],\n",
       "       [10.257696 ,  5.0484357,  9.616388 , ..., 12.186471 , 10.951464 ,\n",
       "         8.339371 ],\n",
       "       [ 9.539898 ,  5.6338716,  8.66603  , ..., 10.493118 , 10.104688 ,\n",
       "         7.6967106],\n",
       "       [ 9.720716 ,  4.830626 ,  9.427818 , ..., 11.958947 , 10.716544 ,\n",
       "         7.864292 ],\n",
       "       [10.139107 ,  5.222512 ,  9.063983 , ..., 11.746427 , 10.576273 ,\n",
       "         8.413297 ]], dtype=float32)"
      ]
     },
     "execution_count": 36,
     "metadata": {},
     "output_type": "execute_result"
    }
   ],
   "source": [
    "adata.layers[\"pred\"][:5]"
   ]
  },
  {
   "cell_type": "code",
   "execution_count": 37,
   "id": "5c33740c",
   "metadata": {},
   "outputs": [
    {
     "data": {
      "text/plain": [
       "array([[ 9.676825 ,  4.2863503, 10.3295   , ..., 12.12225  , 10.041349 ,\n",
       "         8.1269245],\n",
       "       [10.41385  ,  4.1682   ,  8.4472   , ..., 11.34045  , 11.5521   ,\n",
       "         8.0179   ],\n",
       "       [ 9.4435425,  6.009461 ,  8.44984  , ..., 10.036426 , 10.839643 ,\n",
       "         7.5686936],\n",
       "       [ 9.676825 ,  4.2863503, 10.3295   , ..., 12.12225  , 10.041349 ,\n",
       "         8.1269245],\n",
       "       [10.41385  ,  4.1682   ,  8.4472   , ..., 11.34045  , 11.5521   ,\n",
       "         8.0179   ]], dtype=float32)"
      ]
     },
     "execution_count": 37,
     "metadata": {},
     "output_type": "execute_result"
    }
   ],
   "source": [
    "adata.layers[\"unpert_expr\"][:5]"
   ]
  },
  {
   "cell_type": "code",
   "execution_count": 42,
   "id": "941b8032",
   "metadata": {},
   "outputs": [],
   "source": [
    "adata.var_names = subset_adata.var_names"
   ]
  },
  {
   "cell_type": "code",
   "execution_count": 43,
   "id": "ffb314a2",
   "metadata": {},
   "outputs": [],
   "source": [
    "adata.write_h5ad(\"LUAD_target_mol_pred.step2.h5ad\")"
   ]
  }
 ],
 "metadata": {
  "kernelspec": {
   "display_name": "transformer",
   "language": "python",
   "name": "transformer"
  },
  "language_info": {
   "codemirror_mode": {
    "name": "ipython",
    "version": 3
   },
   "file_extension": ".py",
   "mimetype": "text/x-python",
   "name": "python",
   "nbconvert_exporter": "python",
   "pygments_lexer": "ipython3",
   "version": "3.10.13"
  }
 },
 "nbformat": 4,
 "nbformat_minor": 5
}
