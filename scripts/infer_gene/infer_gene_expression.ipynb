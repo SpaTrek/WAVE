{
 "cells": [
  {
   "cell_type": "code",
   "execution_count": 2,
   "id": "b66ac67e",
   "metadata": {},
   "outputs": [],
   "source": [
    "import numpy as np\n",
    "import pandas as pd\n",
    "import scanpy as sc\n",
    "from cmapPy.pandasGEXpress.parse import parse\n",
    "import h5py"
   ]
  },
  {
   "cell_type": "code",
   "execution_count": 3,
   "id": "fece228e",
   "metadata": {},
   "outputs": [],
   "source": [
    "df_gene = pd.read_csv('/path/to/geneinfo_processed.csv')"
   ]
  },
  {
   "cell_type": "code",
   "execution_count": 4,
   "id": "2e540eac",
   "metadata": {},
   "outputs": [],
   "source": [
    "df_landmark_gene = df_gene[(df_gene['pr_is_bing'] == 1) & (df_gene['pr_is_lm']==1)]\n",
    "df_best_infer_gene = df_gene[(df_gene['pr_is_bing'] == 1) & (df_gene['pr_is_lm']==0)]\n",
    "landmark_ids = df_landmark_gene['pr_id'].tolist()\n",
    "best_infer_ids = df_best_infer_gene['pr_id'].tolist()"
   ]
  },
  {
   "cell_type": "code",
   "execution_count": 5,
   "id": "01d0a969",
   "metadata": {},
   "outputs": [],
   "source": [
    "weight_path = '/path/to/infer_weight.gctx'\n",
    "infer_weight = parse(weight_path, cid=['OFFSET']+landmark_ids, rid=best_infer_ids)\n",
    "infer_weight_df_tmp = infer_weight.data_df\n",
    "infer_weight_df = infer_weight_df_tmp[['OFFSET'] + landmark_ids]\n",
    "infer_weight_df = infer_weight_df.loc[best_infer_ids]"
   ]
  },
  {
   "cell_type": "code",
   "execution_count": 6,
   "id": "c4caa779",
   "metadata": {},
   "outputs": [],
   "source": [
    "adata = sc.read_h5ad(\"../level3_cp_ctrl.pred.h5ad\")"
   ]
  },
  {
   "cell_type": "code",
   "execution_count": 7,
   "id": "fd386831",
   "metadata": {},
   "outputs": [],
   "source": [
    "pred_inferred = np.dot(adata.layers['pred'], np.array(infer_weight_df.T[1:])) + np.array(\n",
    "    infer_weight_df.T.loc['OFFSET'])  # (18539, 9196)"
   ]
  },
  {
   "cell_type": "code",
   "execution_count": 14,
   "id": "d780cd50",
   "metadata": {},
   "outputs": [],
   "source": [
    "unpert_inferred = np.dot(adata.layers['unpert_expr'], np.array(infer_weight_df.T[1:])) + np.array(\n",
    "    infer_weight_df.T.loc['OFFSET'])  # (18539, 9196)"
   ]
  },
  {
   "cell_type": "code",
   "execution_count": 9,
   "id": "efdb8538",
   "metadata": {},
   "outputs": [],
   "source": [
    "pert_inferred = np.dot(adata.X, np.array(infer_weight_df.T[1:])) + np.array(\n",
    "    infer_weight_df.T.loc['OFFSET'])  # (18539, 9196)"
   ]
  },
  {
   "cell_type": "code",
   "execution_count": 11,
   "id": "b5c1e9e9",
   "metadata": {},
   "outputs": [
    {
     "data": {
      "text/plain": [
       "(77895, 9196)"
      ]
     },
     "execution_count": 11,
     "metadata": {},
     "output_type": "execute_result"
    }
   ],
   "source": [
    "pred_inferred.shape"
   ]
  },
  {
   "cell_type": "code",
   "execution_count": 12,
   "id": "497d030b",
   "metadata": {},
   "outputs": [],
   "source": [
    "pred_all = np.concatenate((adata.layers['pred'], pred_inferred), axis=1)"
   ]
  },
  {
   "cell_type": "code",
   "execution_count": 15,
   "id": "5174d446",
   "metadata": {},
   "outputs": [],
   "source": [
    "unpert_all = np.concatenate((adata.layers['unpert_expr'], unpert_inferred), axis=1)"
   ]
  },
  {
   "cell_type": "code",
   "execution_count": 16,
   "id": "26c8cb48",
   "metadata": {},
   "outputs": [],
   "source": [
    "pert_all = np.concatenate((adata.X, pert_inferred), axis=1)"
   ]
  },
  {
   "cell_type": "code",
   "execution_count": 18,
   "id": "697a705b",
   "metadata": {},
   "outputs": [
    {
     "data": {
      "text/plain": [
       "Index(['GNPDA1', 'CDH3', 'HDAC6', 'PARP2', 'MAMLD1', 'DNAJB6', 'SMC4', 'ABCC5',\n",
       "       'ABCB6', 'DNM1L',\n",
       "       ...\n",
       "       'NCAPD2', 'PAN2', 'LPGAT1', 'KIF14', 'CDC25A', 'CDC25B', 'OXSR1', 'MVP',\n",
       "       'CDC42', 'DMTF1'],\n",
       "      dtype='object', length=978)"
      ]
     },
     "execution_count": 18,
     "metadata": {},
     "output_type": "execute_result"
    }
   ],
   "source": [
    "adata.var_names"
   ]
  },
  {
   "cell_type": "code",
   "execution_count": 19,
   "id": "358f5e69",
   "metadata": {},
   "outputs": [
    {
     "data": {
      "text/html": [
       "<div>\n",
       "<style scoped>\n",
       "    .dataframe tbody tr th:only-of-type {\n",
       "        vertical-align: middle;\n",
       "    }\n",
       "\n",
       "    .dataframe tbody tr th {\n",
       "        vertical-align: top;\n",
       "    }\n",
       "\n",
       "    .dataframe thead th {\n",
       "        text-align: right;\n",
       "    }\n",
       "</style>\n",
       "<table border=\"1\" class=\"dataframe\">\n",
       "  <thead>\n",
       "    <tr style=\"text-align: right;\">\n",
       "      <th></th>\n",
       "      <th>pr_id</th>\n",
       "      <th>pr_gene_id</th>\n",
       "      <th>pr_gene_symbol</th>\n",
       "      <th>pr_gene_title</th>\n",
       "      <th>pr_is_lm</th>\n",
       "      <th>pr_is_bing</th>\n",
       "      <th>gene_id</th>\n",
       "    </tr>\n",
       "  </thead>\n",
       "  <tbody>\n",
       "    <tr>\n",
       "      <th>0</th>\n",
       "      <td>202382_s_at</td>\n",
       "      <td>10007</td>\n",
       "      <td>GNPDA1</td>\n",
       "      <td>glucosamine-6-phosphate deaminase 1</td>\n",
       "      <td>1</td>\n",
       "      <td>1</td>\n",
       "      <td>10007</td>\n",
       "    </tr>\n",
       "    <tr>\n",
       "      <th>1</th>\n",
       "      <td>203256_at</td>\n",
       "      <td>1001</td>\n",
       "      <td>CDH3</td>\n",
       "      <td>cadherin 3</td>\n",
       "      <td>1</td>\n",
       "      <td>1</td>\n",
       "      <td>1001</td>\n",
       "    </tr>\n",
       "    <tr>\n",
       "      <th>2</th>\n",
       "      <td>206846_s_at</td>\n",
       "      <td>10013</td>\n",
       "      <td>HDAC6</td>\n",
       "      <td>histone deacetylase 6</td>\n",
       "      <td>1</td>\n",
       "      <td>1</td>\n",
       "      <td>10013</td>\n",
       "    </tr>\n",
       "    <tr>\n",
       "      <th>3</th>\n",
       "      <td>214086_s_at</td>\n",
       "      <td>10038</td>\n",
       "      <td>PARP2</td>\n",
       "      <td>poly(ADP-ribose) polymerase 2</td>\n",
       "      <td>1</td>\n",
       "      <td>1</td>\n",
       "      <td>10038</td>\n",
       "    </tr>\n",
       "    <tr>\n",
       "      <th>4</th>\n",
       "      <td>205088_at</td>\n",
       "      <td>10046</td>\n",
       "      <td>MAMLD1</td>\n",
       "      <td>mastermind like domain containing 1</td>\n",
       "      <td>1</td>\n",
       "      <td>1</td>\n",
       "      <td>10046</td>\n",
       "    </tr>\n",
       "    <tr>\n",
       "      <th>...</th>\n",
       "      <td>...</td>\n",
       "      <td>...</td>\n",
       "      <td>...</td>\n",
       "      <td>...</td>\n",
       "      <td>...</td>\n",
       "      <td>...</td>\n",
       "      <td>...</td>\n",
       "    </tr>\n",
       "    <tr>\n",
       "      <th>10169</th>\n",
       "      <td>201131_s_at</td>\n",
       "      <td>999</td>\n",
       "      <td>CDH1</td>\n",
       "      <td>cadherin 1</td>\n",
       "      <td>0</td>\n",
       "      <td>1</td>\n",
       "      <td>999</td>\n",
       "    </tr>\n",
       "    <tr>\n",
       "      <th>10170</th>\n",
       "      <td>220740_s_at</td>\n",
       "      <td>9990</td>\n",
       "      <td>SLC12A6</td>\n",
       "      <td>solute carrier family 12 (potassium/chloride t...</td>\n",
       "      <td>0</td>\n",
       "      <td>1</td>\n",
       "      <td>9990</td>\n",
       "    </tr>\n",
       "    <tr>\n",
       "      <th>10171</th>\n",
       "      <td>214697_s_at</td>\n",
       "      <td>9991</td>\n",
       "      <td>PTBP3</td>\n",
       "      <td>polypyrimidine tract binding protein 3</td>\n",
       "      <td>0</td>\n",
       "      <td>1</td>\n",
       "      <td>9991</td>\n",
       "    </tr>\n",
       "    <tr>\n",
       "      <th>10172</th>\n",
       "      <td>214198_s_at</td>\n",
       "      <td>9993</td>\n",
       "      <td>DGCR2</td>\n",
       "      <td>DiGeorge syndrome critical region gene 2</td>\n",
       "      <td>0</td>\n",
       "      <td>1</td>\n",
       "      <td>9993</td>\n",
       "    </tr>\n",
       "    <tr>\n",
       "      <th>10173</th>\n",
       "      <td>205241_at</td>\n",
       "      <td>9997</td>\n",
       "      <td>SCO2</td>\n",
       "      <td>SCO2 cytochrome c oxidase assembly protein</td>\n",
       "      <td>0</td>\n",
       "      <td>1</td>\n",
       "      <td>9997</td>\n",
       "    </tr>\n",
       "  </tbody>\n",
       "</table>\n",
       "<p>10174 rows × 7 columns</p>\n",
       "</div>"
      ],
      "text/plain": [
       "             pr_id  pr_gene_id pr_gene_symbol  \\\n",
       "0      202382_s_at       10007         GNPDA1   \n",
       "1        203256_at        1001           CDH3   \n",
       "2      206846_s_at       10013          HDAC6   \n",
       "3      214086_s_at       10038          PARP2   \n",
       "4        205088_at       10046         MAMLD1   \n",
       "...            ...         ...            ...   \n",
       "10169  201131_s_at         999           CDH1   \n",
       "10170  220740_s_at        9990        SLC12A6   \n",
       "10171  214697_s_at        9991          PTBP3   \n",
       "10172  214198_s_at        9993          DGCR2   \n",
       "10173    205241_at        9997           SCO2   \n",
       "\n",
       "                                           pr_gene_title  pr_is_lm  \\\n",
       "0                    glucosamine-6-phosphate deaminase 1         1   \n",
       "1                                             cadherin 3         1   \n",
       "2                                  histone deacetylase 6         1   \n",
       "3                          poly(ADP-ribose) polymerase 2         1   \n",
       "4                    mastermind like domain containing 1         1   \n",
       "...                                                  ...       ...   \n",
       "10169                                         cadherin 1         0   \n",
       "10170  solute carrier family 12 (potassium/chloride t...         0   \n",
       "10171             polypyrimidine tract binding protein 3         0   \n",
       "10172           DiGeorge syndrome critical region gene 2         0   \n",
       "10173         SCO2 cytochrome c oxidase assembly protein         0   \n",
       "\n",
       "       pr_is_bing  gene_id  \n",
       "0               1    10007  \n",
       "1               1     1001  \n",
       "2               1    10013  \n",
       "3               1    10038  \n",
       "4               1    10046  \n",
       "...           ...      ...  \n",
       "10169           1      999  \n",
       "10170           1     9990  \n",
       "10171           1     9991  \n",
       "10172           1     9993  \n",
       "10173           1     9997  \n",
       "\n",
       "[10174 rows x 7 columns]"
      ]
     },
     "execution_count": 19,
     "metadata": {},
     "output_type": "execute_result"
    }
   ],
   "source": [
    "df_gene"
   ]
  },
  {
   "cell_type": "code",
   "execution_count": 22,
   "id": "9a2b83fc",
   "metadata": {},
   "outputs": [],
   "source": [
    "import anndata as ad"
   ]
  },
  {
   "cell_type": "code",
   "execution_count": 23,
   "id": "30984364",
   "metadata": {},
   "outputs": [],
   "source": [
    "X = pert_all  \n",
    "layer_unpert = unpert_all\n",
    "layer_pred = pred_all\n",
    "\n",
    "adata1 = ad.AnnData(X=X)\n",
    "\n",
    "adata1.layers[\"unpert_expr\"] = layer_unpert\n",
    "adata1.layers[\"pred\"] = layer_pred\n",
    "\n",
    "adata1.var_names = df_gene[\"pr_gene_symbol\"].astype(str).values"
   ]
  },
  {
   "cell_type": "code",
   "execution_count": 24,
   "id": "57afa87a",
   "metadata": {},
   "outputs": [],
   "source": [
    "adata1.obs = adata.obs"
   ]
  },
  {
   "cell_type": "code",
   "execution_count": 28,
   "id": "4868be0f",
   "metadata": {},
   "outputs": [],
   "source": [
    "adata1.write_h5ad(\"level3_cp_ctrl.pred.infer_genes.h5ad\")"
   ]
  },
  {
   "cell_type": "code",
   "execution_count": null,
   "id": "8f2c0d01",
   "metadata": {},
   "outputs": [],
   "source": []
  }
 ],
 "metadata": {
  "kernelspec": {
   "display_name": "single-cell",
   "language": "python",
   "name": "single-cell"
  },
  "language_info": {
   "codemirror_mode": {
    "name": "ipython",
    "version": 3
   },
   "file_extension": ".py",
   "mimetype": "text/x-python",
   "name": "python",
   "nbconvert_exporter": "python",
   "pygments_lexer": "ipython3",
   "version": "3.9.18"
  }
 },
 "nbformat": 4,
 "nbformat_minor": 5
}
